{
  "nbformat": 4,
  "nbformat_minor": 0,
  "metadata": {
    "colab": {
      "name": "Untitled0.ipynb",
      "provenance": [],
      "collapsed_sections": []
    },
    "kernelspec": {
      "name": "python3",
      "display_name": "Python 3"
    },
    "language_info": {
      "name": "python"
    }
  },
  "cells": [
    {
      "cell_type": "code",
      "metadata": {
        "id": "Rnhmvmwxn9tQ"
      },
      "source": [
        "import matplotlib.pyplot as plt\n",
        "import tensorflow as tf\n",
        "from tensorflow import keras\n",
        "from tensorflow.keras import layers\n",
        "from tensorflow.keras.models import Sequential\n",
        "import numpy as np\n",
        "\n",
        "import glob"
      ],
      "execution_count": null,
      "outputs": []
    },
    {
      "cell_type": "markdown",
      "metadata": {
        "id": "LsA8WjNH_u2i"
      },
      "source": [
        "Dua kode di bawah untuk download dan unzip dataset"
      ]
    },
    {
      "cell_type": "code",
      "metadata": {
        "colab": {
          "base_uri": "https://localhost:8080/"
        },
        "id": "DJmrNuoKPQlK",
        "outputId": "a73c9d85-9bcd-4c71-ba64-629ae355b08a"
      },
      "source": [
        "!pip install googledrivedownloader\n",
        "from google_drive_downloader import GoogleDriveDownloader as gdd"
      ],
      "execution_count": null,
      "outputs": [
        {
          "output_type": "stream",
          "text": [
            "Requirement already satisfied: googledrivedownloader in /usr/local/lib/python3.7/dist-packages (0.4)\n"
          ],
          "name": "stdout"
        }
      ]
    },
    {
      "cell_type": "code",
      "metadata": {
        "colab": {
          "base_uri": "https://localhost:8080/"
        },
        "id": "VbCupEGjPT0e",
        "outputId": "9a3d709d-2bdb-405f-a295-aecfef47d360"
      },
      "source": [
        "gdd.download_file_from_google_drive(file_id='18O90Nag0DGs4eVHyceVKiXVmVsjkRD6Q',\n",
        "                                    dest_path='/content/Budayaku_dataset.zip',\n",
        "                                    unzip=True)"
      ],
      "execution_count": null,
      "outputs": [
        {
          "output_type": "stream",
          "text": [
            "Downloading 18O90Nag0DGs4eVHyceVKiXVmVsjkRD6Q into /content/Budayaku_dataset.zip... Done.\n",
            "Unzipping...Done.\n"
          ],
          "name": "stdout"
        }
      ]
    },
    {
      "cell_type": "markdown",
      "metadata": {
        "id": "7tcT_c2lDHnJ"
      },
      "source": [
        "untuk ngecek kode di atas"
      ]
    },
    {
      "cell_type": "code",
      "metadata": {
        "id": "4NufzKX5ouXr",
        "colab": {
          "base_uri": "https://localhost:8080/"
        },
        "outputId": "b625a527-497a-44d8-827d-8806eb671de7"
      },
      "source": [
        "image_count = len(list(glob.glob('/content/Budayaku_dataset/*/*.jpg')))\n",
        "print(image_count)"
      ],
      "execution_count": null,
      "outputs": [
        {
          "output_type": "stream",
          "text": [
            "675\n"
          ],
          "name": "stdout"
        }
      ]
    },
    {
      "cell_type": "markdown",
      "metadata": {
        "id": "ZFa6n4ehDBqV"
      },
      "source": [
        "Membagi data menjadi test data dan validation data"
      ]
    },
    {
      "cell_type": "code",
      "metadata": {
        "id": "eXAYqQFjXJkD"
      },
      "source": [
        "batch_size = 32\n",
        "img_height = 180\n",
        "img_width = 180"
      ],
      "execution_count": null,
      "outputs": []
    },
    {
      "cell_type": "code",
      "metadata": {
        "colab": {
          "base_uri": "https://localhost:8080/"
        },
        "id": "i1990HlWXLC-",
        "outputId": "e3d452a3-d0ce-438d-be29-214b336a7cc5"
      },
      "source": [
        "train_ds = tf.keras.preprocessing.image_dataset_from_directory(\n",
        "  '/content/Budayaku_dataset/',\n",
        "  validation_split=0.2,\n",
        "  subset=\"training\",\n",
        "  seed=123,\n",
        "  image_size=(img_height, img_width),\n",
        "  batch_size=batch_size)"
      ],
      "execution_count": null,
      "outputs": [
        {
          "output_type": "stream",
          "text": [
            "Found 675 files belonging to 13 classes.\n",
            "Using 540 files for training.\n"
          ],
          "name": "stdout"
        }
      ]
    },
    {
      "cell_type": "code",
      "metadata": {
        "colab": {
          "base_uri": "https://localhost:8080/"
        },
        "id": "yUKrBGK4XZml",
        "outputId": "e9de5ae2-0963-45af-87de-9f9af75b92d8"
      },
      "source": [
        "val_ds = tf.keras.preprocessing.image_dataset_from_directory(\n",
        "  '/content/Budayaku_dataset/',\n",
        "  validation_split=0.2,\n",
        "  subset=\"validation\",\n",
        "  seed=123,\n",
        "  image_size=(img_height, img_width),\n",
        "  batch_size=batch_size)"
      ],
      "execution_count": null,
      "outputs": [
        {
          "output_type": "stream",
          "text": [
            "Found 675 files belonging to 13 classes.\n",
            "Using 135 files for validation.\n"
          ],
          "name": "stdout"
        }
      ]
    },
    {
      "cell_type": "markdown",
      "metadata": {
        "id": "tTnyyFgcC-fG"
      },
      "source": [
        "Normalisasi data"
      ]
    },
    {
      "cell_type": "code",
      "metadata": {
        "id": "vVZalOC5X9Ij"
      },
      "source": [
        "normalization_layer = layers.experimental.preprocessing.Rescaling(1./255)"
      ],
      "execution_count": null,
      "outputs": []
    },
    {
      "cell_type": "code",
      "metadata": {
        "id": "5cCbkXhG2tzl"
      },
      "source": [
        "normalized_ds = train_ds.map(lambda x, y: (normalization_layer(x), y))\n",
        "image_batch, labels_batch = next(iter(normalized_ds))\n",
        "first_image = image_batch[0]"
      ],
      "execution_count": null,
      "outputs": []
    },
    {
      "cell_type": "markdown",
      "metadata": {
        "id": "rbBrzE7ADNck"
      },
      "source": [
        "Membuat model"
      ]
    },
    {
      "cell_type": "code",
      "metadata": {
        "id": "9Y79_WTFv2zJ"
      },
      "source": [
        "num_classes = 13\n",
        "\n",
        "model = Sequential([\n",
        "  layers.experimental.preprocessing.Rescaling(1./255, input_shape=(img_height, img_width, 3)),\n",
        "  layers.Conv2D(16, 3, padding='same', activation='relu'),\n",
        "  layers.MaxPooling2D(),\n",
        "  layers.Conv2D(32, 3, padding='same', activation='relu'),\n",
        "  layers.MaxPooling2D(),\n",
        "  layers.Conv2D(64, 3, padding='same', activation='relu'),\n",
        "  layers.MaxPooling2D(),\n",
        "  layers.Flatten(),\n",
        "  layers.Dense(128, activation='relu'),\n",
        "  layers.Dense(num_classes)\n",
        "])"
      ],
      "execution_count": null,
      "outputs": []
    },
    {
      "cell_type": "code",
      "metadata": {
        "id": "qR1vI1kzwC1t"
      },
      "source": [
        "model.compile(optimizer='adam',\n",
        "              loss=tf.keras.losses.SparseCategoricalCrossentropy(from_logits=True),\n",
        "              metrics=['accuracy'])"
      ],
      "execution_count": null,
      "outputs": []
    },
    {
      "cell_type": "markdown",
      "metadata": {
        "id": "N0E4KDe5DPzu"
      },
      "source": [
        "Melatih model"
      ]
    },
    {
      "cell_type": "code",
      "metadata": {
        "colab": {
          "base_uri": "https://localhost:8080/"
        },
        "id": "bo4TU-d8wLC_",
        "outputId": "763dc653-6394-4361-fc16-f302bf5b7f63"
      },
      "source": [
        "epochs=10\n",
        "history = model.fit(\n",
        "  train_ds,\n",
        "  validation_data=val_ds,\n",
        "  epochs=epochs\n",
        ")"
      ],
      "execution_count": null,
      "outputs": [
        {
          "output_type": "stream",
          "text": [
            "Epoch 1/10\n",
            "17/17 [==============================] - 17s 967ms/step - loss: 2.7096 - accuracy: 0.1000 - val_loss: 2.5757 - val_accuracy: 0.0519\n",
            "Epoch 2/10\n",
            "17/17 [==============================] - 17s 963ms/step - loss: 2.4148 - accuracy: 0.1722 - val_loss: 2.3136 - val_accuracy: 0.2815\n",
            "Epoch 3/10\n",
            "17/17 [==============================] - 17s 968ms/step - loss: 1.8971 - accuracy: 0.4093 - val_loss: 1.9765 - val_accuracy: 0.4074\n",
            "Epoch 4/10\n",
            "17/17 [==============================] - 17s 971ms/step - loss: 1.4158 - accuracy: 0.5630 - val_loss: 1.5210 - val_accuracy: 0.5704\n",
            "Epoch 5/10\n",
            "17/17 [==============================] - 17s 975ms/step - loss: 0.9360 - accuracy: 0.7389 - val_loss: 1.3639 - val_accuracy: 0.5778\n",
            "Epoch 6/10\n",
            "17/17 [==============================] - 17s 978ms/step - loss: 0.6142 - accuracy: 0.8333 - val_loss: 1.1437 - val_accuracy: 0.7185\n",
            "Epoch 7/10\n",
            "17/17 [==============================] - 17s 982ms/step - loss: 0.3539 - accuracy: 0.9074 - val_loss: 1.3107 - val_accuracy: 0.7333\n",
            "Epoch 8/10\n",
            "17/17 [==============================] - 17s 981ms/step - loss: 0.2379 - accuracy: 0.9463 - val_loss: 1.5030 - val_accuracy: 0.7037\n",
            "Epoch 9/10\n",
            "17/17 [==============================] - 17s 977ms/step - loss: 0.1561 - accuracy: 0.9667 - val_loss: 1.4031 - val_accuracy: 0.7037\n",
            "Epoch 10/10\n",
            "17/17 [==============================] - 17s 984ms/step - loss: 0.1012 - accuracy: 0.9889 - val_loss: 1.5568 - val_accuracy: 0.7185\n"
          ],
          "name": "stdout"
        }
      ]
    },
    {
      "cell_type": "code",
      "metadata": {
        "colab": {
          "base_uri": "https://localhost:8080/",
          "height": 499
        },
        "id": "aNymzQ2h55Te",
        "outputId": "612d6353-b2c4-4a56-dbd7-0357e10fbbc6"
      },
      "source": [
        "acc = history.history['accuracy']\n",
        "val_acc = history.history['val_accuracy']\n",
        "\n",
        "loss = history.history['loss']\n",
        "val_loss = history.history['val_loss']\n",
        "\n",
        "epochs_range = range(epochs)\n",
        "\n",
        "plt.figure(figsize=(8, 8))\n",
        "plt.subplot(1, 2, 1)\n",
        "plt.plot(epochs_range, acc, label='Training Accuracy')\n",
        "plt.plot(epochs_range, val_acc, label='Validation Accuracy')\n",
        "plt.legend(loc='lower right')\n",
        "plt.title('Training and Validation Accuracy')\n",
        "\n",
        "plt.subplot(1, 2, 2)\n",
        "plt.plot(epochs_range, loss, label='Training Loss')\n",
        "plt.plot(epochs_range, val_loss, label='Validation Loss')\n",
        "plt.legend(loc='upper right')\n",
        "plt.title('Training and Validation Loss')\n",
        "plt.show()"
      ],
      "execution_count": null,
      "outputs": [
        {
          "output_type": "display_data",
          "data": {
            "image/png": "[encoded data removed]",
            "text/plain": [
              "<Figure size 576x576 with 2 Axes>"
            ]
          },
          "metadata": {
            "tags": [],
            "needs_background": "light"
          }
        }
      ]
    }
  ]
}